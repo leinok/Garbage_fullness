{
 "cells": [
  {
   "cell_type": "markdown",
   "metadata": {},
   "source": [
    "Using the fine_tuned caffemodel (BVLC caffeNet) parameters to classify garbage fullness"
   ]
  },
  {
   "cell_type": "code",
   "execution_count": 2,
   "metadata": {
    "collapsed": true
   },
   "outputs": [],
   "source": [
    "import numpy as np\n",
    "import matplotlib.pyplot as plt\n",
    "from PIL import Image"
   ]
  },
  {
   "cell_type": "code",
   "execution_count": 3,
   "metadata": {
    "collapsed": true
   },
   "outputs": [],
   "source": [
    "import os, sys\n",
    "from os import listdir\n",
    "from os.path import isfile, isdir, join"
   ]
  },
  {
   "cell_type": "code",
   "execution_count": 4,
   "metadata": {
    "collapsed": true
   },
   "outputs": [],
   "source": [
    "data_root = '/home/lei/research/Locision/data/0428/'\n",
    "caffe_root = '/home/lei/caffe/'\n",
    "sys.path.insert(0, caffe_root + 'python')\n",
    "import caffe"
   ]
  },
  {
   "cell_type": "code",
   "execution_count": 5,
   "metadata": {
    "collapsed": false
   },
   "outputs": [],
   "source": [
    "TEST_FILE = data_root + 'test'"
   ]
  },
  {
   "cell_type": "code",
   "execution_count": 6,
   "metadata": {
    "collapsed": true
   },
   "outputs": [],
   "source": [
    "device_id = 0\n",
    "caffe.set_mode_gpu()\n",
    "caffe.set_device(device_id)"
   ]
  },
  {
   "cell_type": "code",
   "execution_count": 7,
   "metadata": {
    "collapsed": true
   },
   "outputs": [],
   "source": [
    "MODEL_FILE = data_root + 'deploy.prototxt'\n",
    "PRETRAINED = data_root + 'finetune_0428_iter_100000 .caffemodel' "
   ]
  },
  {
   "cell_type": "code",
   "execution_count": 8,
   "metadata": {
    "collapsed": false
   },
   "outputs": [],
   "source": [
    "net = caffe.Classifier(MODEL_FILE, PRETRAINED,\n",
    "                       mean = np.load(data_root + 'garbage_mean.npy').mean(1).mean(1),\n",
    "                       channel_swap = (2, 1, 0),\n",
    "                       raw_scale = 255,\n",
    "                       image_dims = (256, 256))"
   ]
  },
  {
   "cell_type": "code",
   "execution_count": 10,
   "metadata": {
    "collapsed": false
   },
   "outputs": [
    {
     "name": "stdout",
     "output_type": "stream",
     "text": [
      "predicting number 1\n",
      "predicting number 2\n",
      "predicting number 3\n",
      "predicting number 4\n",
      "predicting number 5\n",
      "predicting number 6\n",
      "predicting number 7\n",
      "predicting number 8\n",
      "predicting number 9\n",
      "predicting number 10\n",
      "predicting number 11\n",
      "predicting number 12\n",
      "predicting number 13\n",
      "predicting number 14\n",
      "predicting number 15\n",
      "predicting number 16\n",
      "predicting number 17\n",
      "predicting number 18\n",
      "predicting number 19\n",
      "predicting number 20\n",
      "predicting number 21\n",
      "predicting number 22\n",
      "predicting number 23\n",
      "predicting number 24\n",
      "predicting number 25\n",
      "predicting number 26\n",
      "predicting number 27\n",
      "predicting number 28\n",
      "predicting number 29\n",
      "predicting number 30\n",
      "predicting number 31\n",
      "predicting number 32\n",
      "predicting number 33\n",
      "predicting number 34\n",
      "predicting number 35\n",
      "predicting number 36\n",
      "predicting number 37\n",
      "predicting number 38\n",
      "predicting number 39\n",
      "predicting number 40\n",
      "predicting number 41\n",
      "predicting number 42\n",
      "predicting number 43\n",
      "predicting number 44\n",
      "predicting number 45\n",
      "predicting number 46\n",
      "predicting number 47\n",
      "predicting number 48\n",
      "predicting number 49\n",
      "predicting number 50\n",
      "predicting number 51\n",
      "predicting number 52\n",
      "predicting number 53\n",
      "predicting number 54\n",
      "predicting number 55\n",
      "predicting number 56\n",
      "predicting number 57\n",
      "predicting number 58\n",
      "predicting number 59\n",
      "predicting number 60\n",
      "predicting number 61\n",
      "predicting number 62\n",
      "predicting number 63\n",
      "predicting number 64\n",
      "predicting number 65\n",
      "predicting number 66\n",
      "predicting number 67\n",
      "predicting number 68\n",
      "predicting number 69\n",
      "predicting number 70\n",
      "predicting number 71\n",
      "predicting number 72\n",
      "predicting number 73\n",
      "predicting number 74\n",
      "predicting number 75\n",
      "predicting number 76\n",
      "predicting number 77\n",
      "predicting number 78\n",
      "predicting number 79\n",
      "predicting number 80\n",
      "Testing Done!\n"
     ]
    }
   ],
   "source": [
    "if isdir(TEST_FILE):\n",
    "    recorded_file = open(\"result.txt\", \"w\")\n",
    "    IMG_FILES = [f for f in listdir(TEST_FILE) if isfile(join(TEST_FILE, f))]\n",
    "    total_predictions = len(IMG_FILES)\n",
    "    correct_predictions = 0\n",
    "    iter_num = 0\n",
    "    for img_file in IMG_FILES:\n",
    "        iter_num += 1\n",
    "        input_image = caffe.io.load_image(join(TEST_FILE, img_file))\n",
    "        prediction = net.predict([input_image], False)\n",
    "        print \"predicting number %d\" % iter_num\n",
    "        res = prediction[0].argmax()\n",
    "        if res == int(img_file[0]) - 1:\n",
    "            correct_predictions += 1\n",
    "        else :\n",
    "            recorded_file.write(\"The real class is %s%%, while classified as %d0%%\\n\" % (img_file[:2], res+1))\n",
    "    recorded_file.write(\"The correct detections are: %d, the total number is %d\\n\" % (correct_predictions, total_predictions))\n",
    "    recorded_file.write(\"The accuracy is %f \\n\" % (correct_predictions / float(total_predictions)))\n",
    "    recorded_file.close()\n",
    "    print \"Testing Done!\"\n",
    "else :\n",
    "    print \"TEST_FILE is not a valid directory which contains the test images.\""
   ]
  },
  {
   "cell_type": "code",
   "execution_count": null,
   "metadata": {
    "collapsed": true
   },
   "outputs": [],
   "source": []
  }
 ],
 "metadata": {
  "kernelspec": {
   "display_name": "Python 2",
   "language": "python",
   "name": "python2"
  },
  "language_info": {
   "codemirror_mode": {
    "name": "ipython",
    "version": 2
   },
   "file_extension": ".py",
   "mimetype": "text/x-python",
   "name": "python",
   "nbconvert_exporter": "python",
   "pygments_lexer": "ipython2",
   "version": "2.7.11"
  }
 },
 "nbformat": 4,
 "nbformat_minor": 0
}
